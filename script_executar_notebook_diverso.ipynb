{
 "cells": [
  {
   "cell_type": "markdown",
   "metadata": {},
   "source": [
    "## Scrip para executar as células de um notebook a partir de outro notebook"
   ]
  },
  {
   "cell_type": "code",
   "execution_count": 1,
   "metadata": {},
   "outputs": [],
   "source": [
    "# importando as bibliotecas necessárias:\n",
    "import nbformat\n",
    "from nbconvert.preprocessors import ExecutePreprocessor"
   ]
  },
  {
   "cell_type": "code",
   "execution_count": 2,
   "metadata": {},
   "outputs": [],
   "source": [
    "# carregando o notebook \"nome_notebook.ipynb\":\n",
    "with open('nome_notebook.ipynb', 'r', encoding='utf-8') as f:\n",
    "    nb = nbformat.read(f, as_version=4)"
   ]
  },
  {
   "cell_type": "code",
   "execution_count": 3,
   "metadata": {},
   "outputs": [],
   "source": [
    "# inicializando o pré-processador para executar as células, definindo um timeout de 600 segundos e o kernel Python3:\n",
    "ep = ExecutePreprocessor(timeout=600, kernel_name='python3')"
   ]
  },
  {
   "cell_type": "code",
   "execution_count": 4,
   "metadata": {},
   "outputs": [],
   "source": [
    "# função para executar uma célula específica pelo seu índice:\n",
    "def executar_celula(nb, indice):\n",
    "    ep.preprocess(nb, {'metadata': {'path': './'}})\n",
    "    exec(nb['cells'][indice]['source'])"
   ]
  },
  {
   "cell_type": "code",
   "execution_count": 5,
   "metadata": {},
   "outputs": [],
   "source": [
    "# função para executar todas as células do notebook referenciado:\n",
    "def executar_todas_celulas(nb):\n",
    "    ep.preprocess(nb, {'metadata': {'path': './'}})\n",
    "    for i, cell in enumerate(nb.cells):\n",
    "        if cell.cell_type == 'code':\n",
    "            exec(cell.source)"
   ]
  },
  {
   "cell_type": "code",
   "execution_count": null,
   "metadata": {},
   "outputs": [],
   "source": [
    "# executando uma célula desejada:\n",
    "# executar_celula(nb, 0) \n",
    "# print('Célula nº __ foi processada.')\n",
    "\n",
    "# executandop todas as células de 'nome_notebook.ipynb':\n",
    "executar_todas_celulas(nb)\n",
    "print('Todas as células do \"nome_notebook.ipynb\" foram executadas.')"
   ]
  }
 ],
 "metadata": {
  "kernelspec": {
   "display_name": "Python 3",
   "language": "python",
   "name": "python3"
  },
  "language_info": {
   "codemirror_mode": {
    "name": "ipython",
    "version": 3
   },
   "file_extension": ".py",
   "mimetype": "text/x-python",
   "name": "python",
   "nbconvert_exporter": "python",
   "pygments_lexer": "ipython3",
   "version": "3.12.3"
  }
 },
 "nbformat": 4,
 "nbformat_minor": 2
}
