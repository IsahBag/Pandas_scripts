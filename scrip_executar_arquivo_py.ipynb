{
 "cells": [
  {
   "cell_type": "markdown",
   "metadata": {},
   "source": [
    "## Scrip para executar um script de um arquivo .py de um notebook\n"
   ]
  },
  {
   "cell_type": "code",
   "execution_count": null,
   "metadata": {},
   "outputs": [],
   "source": [
    "import subprocess\n",
    "\n",
    "# Função para executar o script e verificar o sucesso:\n",
    "def executar_script(script_path):\n",
    "    try:\n",
    "        result = subprocess.run([\"python\", script_path], check=True, capture_output=True, text=True)\n",
    "        print(result.stdout)\n",
    "        print(\"O script nome_arquivo.py foi executado com sucesso.\")\n",
    "    except subprocess.CalledProcessError as e:\n",
    "        print(f\"Houve um erro ao executar o script {script_path}:\")\n",
    "        print(e.stderr)\n",
    "\n",
    "# Executar o script onboarding.py\n",
    "executar_script(\"nome_arquivo.py\")"
   ]
  }
 ],
 "metadata": {
  "language_info": {
   "name": "python"
  }
 },
 "nbformat": 4,
 "nbformat_minor": 2
}
